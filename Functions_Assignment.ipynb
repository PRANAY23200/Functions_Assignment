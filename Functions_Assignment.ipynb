{
 "cells": [
  {
   "cell_type": "markdown",
   "id": "79a7c67d-1e34-495a-8475-ce5f6dd5205f",
   "metadata": {},
   "source": [
    "# Functions Assignment (Theory Questions)"
   ]
  },
  {
   "cell_type": "markdown",
   "id": "7e5919cb-e645-422d-bee9-63d755c3a31e",
   "metadata": {
    "tags": []
   },
   "source": [
    "## Q1"
   ]
  },
  {
   "cell_type": "markdown",
   "id": "40cec380-3269-4341-be07-801dfc20b216",
   "metadata": {
    "tags": []
   },
   "source": [
    "### Function\n",
    "-  A function is a block of code that performs a specific task, is defined using the def keyword, and can be called independently in the code."
   ]
  },
  {
   "cell_type": "code",
   "execution_count": null,
   "id": "8e353dc4-fa23-47b4-a94a-2d7b6b7bd149",
   "metadata": {},
   "outputs": [],
   "source": [
    "def greet(name):\n",
    "    return f\"Hello, {name}!\"\n",
    "\n",
    "print(greet(\"Satish\"))  # Output: Hello, Satish!"
   ]
  },
  {
   "cell_type": "markdown",
   "id": "3c6b6f7a-b2f2-4b47-9e58-e829daa89397",
   "metadata": {
    "tags": []
   },
   "source": [
    "### Method\n",
    "- A method is a function that is associated with an object or class. Methods are defined within a class and operate on instances of that class or the class itself."
   ]
  },
  {
   "cell_type": "code",
   "execution_count": 3,
   "id": "48886e3b-96ef-464a-bb85-0e0e0d79d360",
   "metadata": {},
   "outputs": [
    {
     "name": "stdout",
     "output_type": "stream",
     "text": [
      "Hello, Sakshi!\n",
      "True\n"
     ]
    }
   ],
   "source": [
    "class Person:\n",
    "    def __init__(self, name):\n",
    "        self.name = name\n",
    "\n",
    "    # Instance method\n",
    "    def greet(self):\n",
    "        return f\"Hello, {self.name}!\"\n",
    "   \n",
    "    # Static method\n",
    "    def is_adult(age):\n",
    "        return age >= 18\n",
    "\n",
    "# Creating an instance of Person\n",
    "person = Person(\"Sakshi\")\n",
    "\n",
    "# Calling an instance method\n",
    "print(person.greet())  # Output: Hello, Sakshi!\n",
    "\n",
    "# Calling a static method\n",
    "print(Person.is_adult(20))  # Output: True"
   ]
  },
  {
   "cell_type": "markdown",
   "id": "1b7da522-4fde-4e88-aefc-9f98dd682673",
   "metadata": {
    "tags": []
   },
   "source": [
    "## Q2"
   ]
  },
  {
   "cell_type": "markdown",
   "id": "94c9877e-82a5-494c-b476-641265f73faa",
   "metadata": {
    "tags": []
   },
   "source": [
    "### Parameters\n",
    "-  Parameters are the variables listed inside the parentheses in the function definition. They act as placeholders for the values that will be passed to the function when it is called."
   ]
  },
  {
   "cell_type": "code",
   "execution_count": null,
   "id": "f423c61f-3874-445b-acfa-8dadf4b01fef",
   "metadata": {},
   "outputs": [],
   "source": [
    "def greet(name):  # 'name' is a parameter\n",
    "    return f\"Hello, {name}!\""
   ]
  },
  {
   "cell_type": "markdown",
   "id": "f3a8a359-cc32-436c-b2db-569c13db4bdb",
   "metadata": {
    "tags": []
   },
   "source": [
    "### Arguments\n",
    "- Arguments are the actual values or data you pass to the function when you call it. They replace the parameters and allow the function to execute with the provided data."
   ]
  },
  {
   "cell_type": "code",
   "execution_count": null,
   "id": "bc6867a6-c253-4702-bd2d-6de9c5a1aa6f",
   "metadata": {},
   "outputs": [],
   "source": [
    "print(greet(\"Sakshi\"))  # \"Sakshi\" is an argument"
   ]
  },
  {
   "cell_type": "markdown",
   "id": "7b1b09c8-ae88-4d22-bda7-1f8fa42c117e",
   "metadata": {
    "tags": []
   },
   "source": [
    "## Q3"
   ]
  },
  {
   "cell_type": "markdown",
   "id": "84aafd0d-6df3-490f-9e5f-c469593570ce",
   "metadata": {
    "tags": []
   },
   "source": [
    "### 1) Using the 'def' keyword\n",
    "The most common way to define a function."
   ]
  },
  {
   "cell_type": "code",
   "execution_count": null,
   "id": "aa54fd6a-e5af-4f52-9c66-67785dd28960",
   "metadata": {},
   "outputs": [],
   "source": [
    "def greet(name):\n",
    "    return f\"Hello, {name}!\"\n",
    "\n",
    "# Calling the function\n",
    "print(greet(\"Ronit\"))  # Output: Hello, Ronit!"
   ]
  },
  {
   "cell_type": "markdown",
   "id": "e94f1630-9400-41be-a156-d31b465cf079",
   "metadata": {},
   "source": [
    "### 2) Lambda Functions"
   ]
  },
  {
   "cell_type": "markdown",
   "id": "7d09a430-52f0-44ac-9b8a-cd3cf4fb90af",
   "metadata": {},
   "source": [
    "- Defined using the lambda keyword and are often used for small, one-time operations."
   ]
  },
  {
   "cell_type": "code",
   "execution_count": null,
   "id": "331e1556-df92-4a49-8000-e5ca3eebdaa9",
   "metadata": {},
   "outputs": [],
   "source": [
    "greet = lambda name: f\"Hello, {name}!\"\n",
    "\n",
    "# Calling the lambda function\n",
    "print(greet(\"Bijay\"))  # Output: Hello, Bijay!"
   ]
  },
  {
   "cell_type": "markdown",
   "id": "2aa44a41-47f0-49fe-b2e8-58546f0594cf",
   "metadata": {},
   "source": [
    "### 3) Functions with Default Arguments"
   ]
  },
  {
   "cell_type": "markdown",
   "id": "fc373843-5509-4cf0-acaf-8723de38c249",
   "metadata": {},
   "source": [
    "- Functions can have default parameter values."
   ]
  },
  {
   "cell_type": "code",
   "execution_count": null,
   "id": "b4e8292f-1501-45cf-94e7-f68e7f2999e1",
   "metadata": {},
   "outputs": [],
   "source": [
    "def greet(name=\"World\"):\n",
    "    return f\"Hello, {name}!\"\n",
    "\n",
    "# Calling the function with and without an argument\n",
    "print(greet())         # Output: Hello, World!\n",
    "print(greet(\"Rohan\"))    # Output: Hello, Rohan!"
   ]
  },
  {
   "cell_type": "markdown",
   "id": "bc7a88c5-f770-4cf3-b33e-32e899ab9401",
   "metadata": {},
   "source": [
    "### 4) Functions with Variable-Length Arguments"
   ]
  },
  {
   "cell_type": "markdown",
   "id": "0310a0e4-1769-4274-a508-03b071489864",
   "metadata": {},
   "source": [
    "- Functions can accept a variable number of arguments using *args and **kwargs."
   ]
  },
  {
   "cell_type": "code",
   "execution_count": null,
   "id": "fa7eb901-1659-4ca7-bad1-2bec5fcc7e92",
   "metadata": {},
   "outputs": [],
   "source": [
    "def greet(*names):\n",
    "    return [f\"Hello, {name}!\" for name in names]\n",
    "\n",
    "# Calling the function with multiple arguments\n",
    "print(greet(\"Alice\", \"Bob\", \"Charlie\"))\n",
    "# Output: ['Hello, Alice!', 'Hello, Bob!', 'Hello, Charlie!']"
   ]
  },
  {
   "cell_type": "code",
   "execution_count": null,
   "id": "842a9120-02a1-4fe0-8b32-677842e40314",
   "metadata": {},
   "outputs": [],
   "source": [
    "def greet(**greetings):\n",
    "    return [f\"{greeting}, {name}!\" for name, greeting in greetings.items()]\n",
    "\n",
    "# Calling the function with keyword arguments\n",
    "print(greet(Alice=\"Hi\", Bob=\"Hello\", Charlie=\"Hey\"))\n",
    "# Output: ['Hi, Alice!', 'Hello, Bob!', 'Hey, Charlie!']"
   ]
  },
  {
   "cell_type": "markdown",
   "id": "df9b8ab9-9c40-46bc-862f-b8433f345532",
   "metadata": {
    "tags": []
   },
   "source": [
    "## Q4"
   ]
  },
  {
   "cell_type": "markdown",
   "id": "be5fa767-9690-44e4-9425-9ee96d80829e",
   "metadata": {},
   "source": [
    "### Return Statement:"
   ]
  },
  {
   "cell_type": "markdown",
   "id": "f2643017-9703-4e40-b79a-09ba3b6923aa",
   "metadata": {},
   "source": [
    "-  The return statement is used to control the output of a function, dictate when the function should stop executing, and optionally pass      data back to the part of the program that called the function."
   ]
  },
  {
   "cell_type": "markdown",
   "id": "a77a05f6-a11b-41b4-bb60-9f8b8a41512b",
   "metadata": {},
   "source": [
    "### Use case examples"
   ]
  },
  {
   "cell_type": "markdown",
   "id": "1569cfbd-1bdd-4745-ac3e-d108bd83a40f",
   "metadata": {},
   "source": [
    "- Returning a value from a function"
   ]
  },
  {
   "cell_type": "code",
   "execution_count": null,
   "id": "9f8c0ce6-5aaf-4349-936b-0bac39e3e92e",
   "metadata": {},
   "outputs": [],
   "source": [
    "def add(a, b):\n",
    "    return a + b\n",
    "\n",
    "result = add(3, 4)\n",
    "print(result)  # Output: 7"
   ]
  },
  {
   "cell_type": "markdown",
   "id": "d1dc06ca-fbd2-495b-9c49-45003325d853",
   "metadata": {},
   "source": [
    "- Exiting the Function"
   ]
  },
  {
   "cell_type": "code",
   "execution_count": null,
   "id": "d8b89693-e94e-46d9-ac07-b45516b5d768",
   "metadata": {},
   "outputs": [],
   "source": [
    "def check_even(number):\n",
    "    if number % 2 == 0:\n",
    "        return True\n",
    "    return False  # This is only reached if the number is not even\n",
    "\n",
    "print(check_even(4))  # Output: True\n",
    "print(check_even(5))  # Output: False"
   ]
  },
  {
   "cell_type": "markdown",
   "id": "b3b4863e-8553-47ff-a612-f9d5cdb7643a",
   "metadata": {
    "tags": []
   },
   "source": [
    "## Q5"
   ]
  },
  {
   "cell_type": "markdown",
   "id": "a874f60f-1572-4f1b-96ff-04224fa233d5",
   "metadata": {},
   "source": [
    "### Iterators"
   ]
  },
  {
   "cell_type": "markdown",
   "id": "38e76e45-ee08-4ee2-bced-4d6a80f51254",
   "metadata": {},
   "source": [
    "- An iterator is an object that represents a stream of data. It is an object with a __next__() method, which returns the next item from the sequence each time it is called. Iterators are created by calling the __iter__() method on an iterable, which returns the iterator itself."
   ]
  },
  {
   "cell_type": "code",
   "execution_count": null,
   "id": "a556bc69-4823-4aac-bcea-a9e6f1148d97",
   "metadata": {},
   "outputs": [],
   "source": [
    "my_list = [1, 2, 3]\n",
    "my_iterator = iter(my_list)  # Create an iterator from the list\n",
    "\n",
    "print(next(my_iterator))  # Output: 1\n",
    "print(next(my_iterator))  # Output: 2\n",
    "print(next(my_iterator))  # Output: 3\n",
    "# next(my_iterator) would raise StopIteration error since there are no more items"
   ]
  },
  {
   "cell_type": "markdown",
   "id": "c784ec0c-cf4b-44f9-9c20-d1ec71065a54",
   "metadata": {},
   "source": [
    "### Iterables\n"
   ]
  },
  {
   "cell_type": "markdown",
   "id": "fa8b222c-2b7b-4298-877d-d194706cef2c",
   "metadata": {},
   "source": [
    "- An iterable is any Python object capable of returning its members one at a time. Technically, an iterable is an object that has an __iter__() method, which returns an iterator.\n",
    "- Common examples of iterables include lists, tuples, strings, dictionaries, and sets."
   ]
  },
  {
   "cell_type": "code",
   "execution_count": null,
   "id": "83945045-2c0d-4c80-8b12-574f0f94c4a0",
   "metadata": {},
   "outputs": [],
   "source": [
    "my_list = [1, 2, 3]\n",
    "for item in my_list:\n",
    "    print(item)"
   ]
  },
  {
   "cell_type": "markdown",
   "id": "846fb9e2-ebc9-4985-aa3e-12a1058e0dda",
   "metadata": {},
   "source": [
    "### Key Differences"
   ]
  },
  {
   "cell_type": "markdown",
   "id": "beba33b1-d2c5-463f-888a-ab74e3beec7a",
   "metadata": {},
   "source": [
    "- Iterable: Represents a collection of data that can be iterated over (e.g., lists, strings).\n",
    "- Iterator: Represents a stream of data produced one item at a time from an iterable."
   ]
  },
  {
   "cell_type": "markdown",
   "id": "83f39144-deeb-4f0a-9ddc-aadb68de6ae7",
   "metadata": {
    "tags": []
   },
   "source": [
    "## Q6"
   ]
  },
  {
   "cell_type": "markdown",
   "id": "b2dc9584-e9a4-4ac2-bbbc-153e412fee96",
   "metadata": {},
   "source": [
    "- Generators in Python are a special type of iterator that allows you to iterate over a sequence of values lazily, meaning they generate values on the fly and only when requested, rather than all at once. This makes them memory-efficient, especially when working with large data sets or streams of data."
   ]
  },
  {
   "cell_type": "code",
   "execution_count": 11,
   "id": "805b7cd9-e6e3-4abf-bffe-831f376d94d2",
   "metadata": {},
   "outputs": [
    {
     "name": "stdout",
     "output_type": "stream",
     "text": [
      "0\n",
      "1\n",
      "4\n"
     ]
    }
   ],
   "source": [
    "#Generator Example\n",
    "def square_generator():\n",
    "    for i in range(3):\n",
    "        yield i*i    # generates square number\n",
    "sq_gen = square_generator()\n",
    "\n",
    "print(next(sq_gen)) #Output: 0\n",
    "print(next(sq_gen)) #Output: 1\n",
    "print(next(sq_gen)) #Output: 4\n",
    "# next(gen) would raise StopIteration since there are no more items"
   ]
  },
  {
   "cell_type": "markdown",
   "id": "db970402-312e-46b6-b7e6-94fba79faa3a",
   "metadata": {
    "tags": []
   },
   "source": [
    "## Q7"
   ]
  },
  {
   "cell_type": "markdown",
   "id": "fa1063f5-10e7-4652-9457-5964e882178c",
   "metadata": {},
   "source": [
    "### 1) Memory Efficiency"
   ]
  },
  {
   "cell_type": "markdown",
   "id": "147a4ef2-8cc8-41da-ac30-b38acbc447b3",
   "metadata": {},
   "source": [
    "- Generators offer several advantages over regular functions, particularly when dealing with large datasets or when memory efficiency is a concern."
   ]
  },
  {
   "cell_type": "code",
   "execution_count": 2,
   "id": "297dc19d-c4d4-44d1-8822-e8d18fc81752",
   "metadata": {},
   "outputs": [],
   "source": [
    "# Generator\n",
    "def count_up_to(n):\n",
    "    counter = 1\n",
    "    while counter <= n:\n",
    "        yield counter\n",
    "        counter += 1\n",
    "#With a generator, you only produce the next number when it's needed, saving memory.\n",
    "\n",
    "# Regular function\n",
    "def count_up_to_list(n):\n",
    "    return list(range(1, n + 1))"
   ]
  },
  {
   "cell_type": "markdown",
   "id": "1c0902ca-bda0-4350-ab1d-ee3e285323fc",
   "metadata": {},
   "source": [
    "### 2) Improved Performance"
   ]
  },
  {
   "cell_type": "markdown",
   "id": "6aed6676-a123-413c-9066-1c334770ed49",
   "metadata": {},
   "source": [
    "- Generators start producing results immediately and continue to do so as needed, without waiting to compute all results first. This can lead to performance improvements in cases where you don't need all results at once or where generating all results upfront would be computationally expensive"
   ]
  },
  {
   "cell_type": "code",
   "execution_count": 3,
   "id": "845d5606-13d7-4c08-a1e4-8b3a335c3163",
   "metadata": {},
   "outputs": [
    {
     "name": "stdout",
     "output_type": "stream",
     "text": [
      "1\n"
     ]
    }
   ],
   "source": [
    "# Generator starts yielding results immediately\n",
    "for num in count_up_to(1000000):\n",
    "    print(num)\n",
    "    break  # Only need the first result for demonstration"
   ]
  },
  {
   "cell_type": "markdown",
   "id": "ae1c72cc-23d0-4cfd-9d46-b823bf52db50",
   "metadata": {},
   "source": [
    "### 3) Simplified Code"
   ]
  },
  {
   "cell_type": "markdown",
   "id": "cc13772b-9d06-42d5-a696-8f6ca9e1674f",
   "metadata": {},
   "source": [
    "- Generators can simplify complex iteration logic by allowing you to write functions that yield values incrementally, rather than constructing large lists or using cumbersome loops."
   ]
  },
  {
   "cell_type": "code",
   "execution_count": null,
   "id": "7fcb7e91-0bf8-4c6a-a45a-17d3edc956d3",
   "metadata": {},
   "outputs": [],
   "source": [
    "def fibonacci(limit):\n",
    "    a, b = 0, 1\n",
    "    while a < limit:\n",
    "        yield a\n",
    "        a, b = b, a + b"
   ]
  },
  {
   "cell_type": "markdown",
   "id": "3292f19a-1649-4beb-a44c-506997d29125",
   "metadata": {
    "tags": []
   },
   "source": [
    "## Q8"
   ]
  },
  {
   "cell_type": "markdown",
   "id": "e9179237-609d-4e9d-b87d-b3fd9a8849ba",
   "metadata": {},
   "source": [
    "### Lambda function"
   ]
  },
  {
   "cell_type": "markdown",
   "id": "aea69ad5-0603-4512-b0db-2a2311a530ba",
   "metadata": {},
   "source": [
    "- A lambda function in Python is a small, anonymous function defined using the lambda keyword. Unlike regular functions defined with the def keyword, lambda functions are limited to a single expression and don't require a name.They are often used in situations where a small, simple function is needed for a short period of time."
   ]
  },
  {
   "cell_type": "code",
   "execution_count": null,
   "id": "b13743e1-b359-48f2-8edc-813af66cb572",
   "metadata": {},
   "outputs": [],
   "source": [
    "# Example of Lambda function\n",
    "add = lambda x, y: x + y\n",
    "result = add(3, 5)\n",
    "print(result)  # Output: 8"
   ]
  },
  {
   "cell_type": "markdown",
   "id": "31edd580-5b50-43bd-b04e-70dbc2bee77d",
   "metadata": {
    "tags": []
   },
   "source": [
    "## Q9"
   ]
  },
  {
   "cell_type": "markdown",
   "id": "8d13ab3c-b4df-44c5-a5a6-6f3f8ec29efb",
   "metadata": {},
   "source": [
    "- The map() function in Python is a built-in function used to apply a given function to all the items in an iterable (like a list, tuple, etc.) and return a new iterable (usually a map object). The map() function is particularly useful when you need to perform a specific operation on each element of a collection without writing an explicit loop."
   ]
  },
  {
   "cell_type": "code",
   "execution_count": null,
   "id": "b92ff578-b2d2-4aed-9e62-3f96b0b32fe9",
   "metadata": {},
   "outputs": [],
   "source": [
    "# Use case example of map() function\n",
    "numbers = [1, 2, 3, 4]\n",
    "squared_numbers = map(lambda x: x ** 2, numbers)\n",
    "print(list(squared_numbers))  # Output: [1, 4, 9, 16]"
   ]
  },
  {
   "cell_type": "markdown",
   "id": "28bd1465-0af2-42c6-9551-16b14004f08c",
   "metadata": {
    "tags": []
   },
   "source": [
    "## Q10"
   ]
  },
  {
   "cell_type": "markdown",
   "id": "e00e88ae-5cc4-49d4-b32d-eed1d0e1d4be",
   "metadata": {},
   "source": [
    "### map() vs. filter() vs. reduce()"
   ]
  },
  {
   "cell_type": "markdown",
   "id": "89341a59-c1e6-4fcf-96ce-26b2e7c67dbf",
   "metadata": {},
   "source": [
    "- map() is used for transforming each element in an iterable (e.g., squaring each number in a list).\n",
    "- filter() is used for filtering elements based on a condition (e.g., keeping only even numbers).\n",
    "- reduce() is used for reducing all elements in an iterable to a single cumulative value (e.g., summing or multiplying all numbers)."
   ]
  },
  {
   "cell_type": "markdown",
   "id": "e138e4c0-ca30-4c36-a251-999b7b46ce57",
   "metadata": {},
   "source": [
    "### Return types"
   ]
  },
  {
   "cell_type": "markdown",
   "id": "42b6d3b2-892e-49a2-ab5a-9b20a4c11371",
   "metadata": {},
   "source": [
    "- map() and filter() both return iterators that can be converted into lists, tuples, etc.\n",
    "- reduce() returns a single cumulative value."
   ]
  },
  {
   "cell_type": "markdown",
   "id": "3f100390-9077-42f4-a30d-be7335ed7d33",
   "metadata": {},
   "source": [
    "### Example Comparision"
   ]
  },
  {
   "cell_type": "code",
   "execution_count": null,
   "id": "7331cae4-c91c-4b3a-bea5-edda5feb7ee2",
   "metadata": {},
   "outputs": [],
   "source": [
    "from functools import reduce\n",
    "\n",
    "numbers = [1, 2, 3, 4, 5, 6]\n",
    "\n",
    "# map: Square each number\n",
    "squared_numbers = map(lambda x: x ** 2, numbers)\n",
    "print(list(squared_numbers))  # Output: [1, 4, 9, 16, 25, 36]\n",
    "\n",
    "# filter: Keep only even numbers\n",
    "even_numbers = filter(lambda x: x % 2 == 0, numbers)\n",
    "print(list(even_numbers))  # Output: [2, 4, 6]\n",
    "\n",
    "# reduce: Sum all numbers\n",
    "total = reduce(lambda x, y: x + y, numbers)\n",
    "print(total)  # Output: 21"
   ]
  },
  {
   "cell_type": "markdown",
   "id": "da1a6593-d085-44d1-905c-7a32dbba05c6",
   "metadata": {
    "tags": []
   },
   "source": [
    "## Q11"
   ]
  },
  {
   "cell_type": "markdown",
   "id": "db6bda70-19bf-4785-9642-0d5976b75739",
   "metadata": {},
   "source": [
    "https://docs.google.com/document/d/1qlB2aX-VTQt1_ZCDRLZljfKA5jc_mzQ9R0UzXaeVBpQ/edit?usp=sharing"
   ]
  },
  {
   "cell_type": "markdown",
   "id": "08f9662f-2ca7-436d-b3a6-a31015dd00a4",
   "metadata": {},
   "source": [
    "# Functions Assignment(Practical Questions)"
   ]
  },
  {
   "cell_type": "markdown",
   "id": "7f641835-fb82-49e2-9412-3d8b28511318",
   "metadata": {
    "tags": []
   },
   "source": [
    "## Q1"
   ]
  },
  {
   "cell_type": "code",
   "execution_count": null,
   "id": "31d8e522-b20f-4af9-adb3-3637fd15f6cc",
   "metadata": {},
   "outputs": [],
   "source": [
    "def sum_of_evens(numbers):\n",
    "    \"\"\"\n",
    "    Returns the sum of all even numbers in the given list.\n",
    "\n",
    "    Parameters:\n",
    "    numbers (list): A list of integers.\n",
    "\n",
    "    Returns:\n",
    "    int: The sum of all even numbers in the list.\n",
    "    \"\"\"\n",
    "    # Use a generator expression to filter out even numbers and sum them\n",
    "    return sum(num for num in numbers if num % 2 == 0)\n",
    "\n",
    "# Example usage\n",
    "numbers = [1, 2, 3, 4, 5, 6]\n",
    "result = sum_of_evens(numbers)\n",
    "print(result)  # Output: 12"
   ]
  },
  {
   "cell_type": "markdown",
   "id": "c231c382-c9c1-4852-9bee-fc4055d2e9ae",
   "metadata": {
    "tags": []
   },
   "source": [
    "## Q2"
   ]
  },
  {
   "cell_type": "code",
   "execution_count": null,
   "id": "ce225b94-3615-4ea7-b8f7-20ea0199e13d",
   "metadata": {},
   "outputs": [],
   "source": [
    "def reverse_string(s):\n",
    "    \"\"\"\n",
    "    Returns the reverse of the given string.\n",
    "\n",
    "    Parameters:\n",
    "    s (str): The string to be reversed.\n",
    "\n",
    "    Returns:\n",
    "    str: The reversed string.\n",
    "    \"\"\"\n",
    "    return s[::-1]\n",
    "\n",
    "# Example usage\n",
    "input_string = \"Hello, World!\"\n",
    "reversed_string = reverse_string(input_string)\n",
    "print(reversed_string)  # Output: \"!dlroW ,olleH\""
   ]
  },
  {
   "cell_type": "markdown",
   "id": "5c90bc4d-18f5-4f28-95e0-0173c3e8a328",
   "metadata": {
    "tags": []
   },
   "source": [
    "## Q3"
   ]
  },
  {
   "cell_type": "code",
   "execution_count": null,
   "id": "ffa72e87-0480-4df7-8629-87b202704eee",
   "metadata": {},
   "outputs": [],
   "source": [
    "def square_numbers(numbers):\n",
    "    \"\"\"\n",
    "    Returns a new list containing the squares of each number from the given list.\n",
    "\n",
    "    Parameters:\n",
    "    numbers (list): A list of integers.\n",
    "\n",
    "    Returns:\n",
    "    list: A new list with the squares of each number.\n",
    "    \"\"\"\n",
    "    # Use a list comprehension to create a new list with squares of the numbers\n",
    "    return [num ** 2 for num in numbers]\n",
    "\n",
    "# Example usage\n",
    "input_list = [1, 2, 3, 4, 5]\n",
    "squared_list = square_numbers(input_list)\n",
    "print(squared_list)  # Output: [1, 4, 9, 16, 25]"
   ]
  },
  {
   "cell_type": "markdown",
   "id": "60da1361-8663-48e4-a44d-44ba6d544d56",
   "metadata": {
    "tags": []
   },
   "source": [
    "## Q4"
   ]
  },
  {
   "cell_type": "code",
   "execution_count": 4,
   "id": "0c3f55a3-64e9-425a-b229-8ce7be2063f9",
   "metadata": {},
   "outputs": [
    {
     "name": "stdout",
     "output_type": "stream",
     "text": [
      "29 is a prime number.\n"
     ]
    }
   ],
   "source": [
    "def is_prime(n):\n",
    "    \"\"\"\n",
    "    Checks if a given number is prime.\n",
    "\n",
    "    Parameters:\n",
    "    n (int): The number to check.\n",
    "\n",
    "    Returns:\n",
    "    bool: True if the number is prime, False otherwise.\n",
    "    \"\"\"\n",
    "    # Check if the number is within the range [1, 200]\n",
    "    if n < 1 or n > 200:\n",
    "        raise ValueError(\"Number must be between 1 and 200\")\n",
    "\n",
    "    # Edge cases\n",
    "    if n <= 1:\n",
    "        return False\n",
    "    if n == 2:\n",
    "        return True\n",
    "    if n % 2 == 0:\n",
    "        return False\n",
    "    \n",
    "    # Check for factors from 3 up to the square root of n\n",
    "    limit = int(n ** 0.5) + 1\n",
    "    for i in range(3, limit, 2):\n",
    "        if n % i == 0:\n",
    "            return False\n",
    "\n",
    "    return True\n",
    "\n",
    "# Example usage\n",
    "number = 29\n",
    "if is_prime(number):\n",
    "    print(f\"{number} is a prime number.\")\n",
    "else:\n",
    "    print(f\"{number} is not a prime number.\")"
   ]
  },
  {
   "cell_type": "markdown",
   "id": "3287f799-705b-4175-b8e2-05e4669c6f4d",
   "metadata": {
    "tags": []
   },
   "source": [
    "## Q5"
   ]
  },
  {
   "cell_type": "code",
   "execution_count": 5,
   "id": "6b576629-6eaf-4d12-9bfa-1a209051311c",
   "metadata": {},
   "outputs": [
    {
     "name": "stdout",
     "output_type": "stream",
     "text": [
      "0\n",
      "1\n",
      "1\n",
      "2\n",
      "3\n",
      "5\n",
      "8\n",
      "13\n",
      "21\n",
      "34\n"
     ]
    }
   ],
   "source": [
    "class FibonacciIterator:\n",
    "    def __init__(self, terms):\n",
    "        \"\"\"\n",
    "        Initialize the Fibonacci iterator.\n",
    "\n",
    "        Parameters:\n",
    "        terms (int): The number of terms to generate in the Fibonacci sequence.\n",
    "        \"\"\"\n",
    "        self.terms = terms  # Total number of terms to generate\n",
    "        self.count = 0      # Counter for the number of terms generated\n",
    "        self.a, self.b = 0, 1  # Initial values for Fibonacci sequence\n",
    "\n",
    "    def __iter__(self):\n",
    "        \"\"\"\n",
    "        Returns the iterator object itself.\n",
    "        \"\"\"\n",
    "        return self\n",
    "\n",
    "    def __next__(self):\n",
    "        \"\"\"\n",
    "        Returns the next value in the Fibonacci sequence.\n",
    "        \"\"\"\n",
    "        if self.count >= self.terms:\n",
    "            raise StopIteration  # Stop iteration when the number of terms is reached\n",
    "\n",
    "        # Return the current Fibonacci number\n",
    "        result = self.a\n",
    "        self.a, self.b = self.b, self.a + self.b  # Update to next Fibonacci numbers\n",
    "        self.count += 1  # Increment the count of terms generated\n",
    "\n",
    "        return result\n",
    "\n",
    "# Example usage\n",
    "fibonacci_sequence = FibonacciIterator(10)  # Create an iterator for the first 10 Fibonacci numbers\n",
    "\n",
    "for number in fibonacci_sequence:\n",
    "    print(number)"
   ]
  },
  {
   "cell_type": "markdown",
   "id": "9725c551-742a-449c-96f9-b8e546a67bde",
   "metadata": {
    "tags": []
   },
   "source": [
    "## Q6"
   ]
  },
  {
   "cell_type": "code",
   "execution_count": 6,
   "id": "dee57b91-ebf6-456d-8647-a973dd3b0c79",
   "metadata": {},
   "outputs": [
    {
     "name": "stdout",
     "output_type": "stream",
     "text": [
      "1\n",
      "2\n",
      "4\n",
      "8\n",
      "16\n",
      "32\n"
     ]
    }
   ],
   "source": [
    "def powers_of_two(max_exponent):\n",
    "    \"\"\"\n",
    "    A generator function that yields powers of 2 up to the given exponent.\n",
    "\n",
    "    Parameters:\n",
    "    max_exponent (int): The maximum exponent for which powers of 2 will be generated.\n",
    "    \"\"\"\n",
    "    for exponent in range(max_exponent + 1):\n",
    "        yield 2 ** exponent\n",
    "\n",
    "# Example usage\n",
    "for power in powers_of_two(5):\n",
    "    print(power)"
   ]
  },
  {
   "cell_type": "markdown",
   "id": "be27a863-5004-47de-bc0a-650650bccff0",
   "metadata": {},
   "source": [
    "## Q7"
   ]
  },
  {
   "cell_type": "code",
   "execution_count": null,
   "id": "7744d08a-d4bb-448e-8bb8-8d15440ae5f2",
   "metadata": {},
   "outputs": [],
   "source": [
    "def read_file_lines(filename):\n",
    "    \"\"\"\n",
    "    A generator function that reads a file line by line and yields each line as a string.\n",
    "\n",
    "    Parameters:\n",
    "    filename (str): The path to the file to read.\n",
    "\n",
    "    Yields:\n",
    "    str: Each line from the file.\n",
    "    \"\"\"\n",
    "    with open(filename, 'r') as file:\n",
    "        for line in file:\n",
    "            yield line.strip()  # Using .strip() to remove any trailing newlines or spaces\n",
    "\n",
    "# Example usage\n",
    "filename = 'example.txt'  # Replace with the path to your file\n",
    "\n",
    "for line in read_file_lines(filename):\n",
    "    print(line)"
   ]
  },
  {
   "cell_type": "markdown",
   "id": "4c55ce87-6fd2-44e8-b34e-f3f519eabcbc",
   "metadata": {},
   "source": [
    "## Q8"
   ]
  },
  {
   "cell_type": "code",
   "execution_count": null,
   "id": "226d21ab-590b-4653-8705-0306f9729933",
   "metadata": {},
   "outputs": [],
   "source": [
    "# List of tuples\n",
    "tuples_list = [(1, 3), (4, 1), (5, 2), (3, 4)]\n",
    "\n",
    "# Sort the list of tuples based on the second element of each tuple\n",
    "sorted_list = sorted(tuples_list, key=lambda x: x[1])\n",
    "\n",
    "print(sorted_list)  # Output: [(4, 1), (5, 2), (1, 3), (3, 4)]"
   ]
  },
  {
   "cell_type": "markdown",
   "id": "84809906-affb-4e5b-8d21-6a18153a8aac",
   "metadata": {
    "tags": []
   },
   "source": [
    "## Q9"
   ]
  },
  {
   "cell_type": "code",
   "execution_count": null,
   "id": "429eeee2-7d6a-4d53-ad60-a011b5fa9c7d",
   "metadata": {},
   "outputs": [],
   "source": [
    "def celsius_to_fahrenheit(celsius):\n",
    "    \"\"\"\n",
    "    Convert Celsius to Fahrenheit.\n",
    "\n",
    "    Parameters:\n",
    "    celsius (float): Temperature in Celsius.\n",
    "\n",
    "    Returns:\n",
    "    float: Temperature in Fahrenheit.\n",
    "    \"\"\"\n",
    "    return (celsius * 9/5) + 32\n",
    "\n",
    "# List of temperatures in Celsius\n",
    "celsius_temperatures = [0, 10, 20, 30, 40]\n",
    "\n",
    "# Use map() to convert Celsius temperatures to Fahrenheit\n",
    "fahrenheit_temperatures = map(celsius_to_fahrenheit, celsius_temperatures)\n",
    "\n",
    "# Convert the map object to a list and print the result\n",
    "fahrenheit_list = list(fahrenheit_temperatures)\n",
    "print(fahrenheit_list)  # Output: [32.0, 50.0, 68.0, 86.0, 104.0]"
   ]
  },
  {
   "cell_type": "markdown",
   "id": "efee8a4f-0fb9-4d91-abb9-7ef57d9c9d53",
   "metadata": {},
   "source": [
    "## Q10"
   ]
  },
  {
   "cell_type": "code",
   "execution_count": 7,
   "id": "6e50bc10-6cae-4507-bf83-5ec1e793aaea",
   "metadata": {},
   "outputs": [
    {
     "name": "stdout",
     "output_type": "stream",
     "text": [
      "Hll, Wrld!\n"
     ]
    }
   ],
   "source": [
    "def is_not_vowel(char):\n",
    "    \"\"\"\n",
    "    Check if a character is not a vowel.\n",
    "\n",
    "    Parameters:\n",
    "    char (str): A single character.\n",
    "\n",
    "    Returns:\n",
    "    bool: True if the character is not a vowel, False otherwise.\n",
    "    \"\"\"\n",
    "    vowels = \"aeiouAEIOU\"\n",
    "    return char not in vowels\n",
    "\n",
    "def remove_vowels(input_string):\n",
    "    \"\"\"\n",
    "    Remove all vowels from the given string using filter().\n",
    "\n",
    "    Parameters:\n",
    "    input_string (str): The string from which vowels will be removed.\n",
    "\n",
    "    Returns:\n",
    "    str: The string with all vowels removed.\n",
    "    \"\"\"\n",
    "    # Use filter() to remove vowels\n",
    "    filtered_characters = filter(is_not_vowel, input_string)\n",
    "    # Join the filtered characters into a new string\n",
    "    return ''.join(filtered_characters)\n",
    "\n",
    "# Example usage\n",
    "original_string = \"Hello, World!\"\n",
    "result_string = remove_vowels(original_string)\n",
    "print(result_string)  # Output: \"Hll, Wrld!\""
   ]
  },
  {
   "cell_type": "markdown",
   "id": "07af9af0-f87d-444e-ab9b-da060b900c52",
   "metadata": {},
   "source": [
    "## Q11"
   ]
  },
  {
   "cell_type": "code",
   "execution_count": 8,
   "id": "853e95f1-16cc-4cd4-850b-bbf6cea52a6c",
   "metadata": {},
   "outputs": [
    {
     "name": "stdout",
     "output_type": "stream",
     "text": [
      "[(34587, 180.18000000000004), (98762, 312.40000000000003), (77226, 110.00000000000001), (88112, 110.00000000000001)]\n"
     ]
    }
   ],
   "source": [
    "def calculate_order_totals(order_list):\n",
    "  \"\"\"Calculates order totals with a 10€ surcharge for orders under 100€.\n",
    "\n",
    "  Args:\n",
    "    order_list: A list of order sublists, where each sublist contains\n",
    "      [order_number, book_title, author, quantity, price_per_item].\n",
    "\n",
    "  Returns:\n",
    "    A list of tuples, where each tuple contains the order number and the\n",
    "    calculated total price.\n",
    "  \"\"\"\n",
    "\n",
    "  return list(map(lambda order: (order[0],max(order[3] * order[4], 100) * 1.1),order_list))\n",
    "\n",
    "# Example usage:\n",
    "order_data = [\n",
    "    [34587, \"Learning Python\", \"Mark Lutz\", 4, 40.95],\n",
    "    [98762, \"Programming Python\", \"Mark Lutz\", 5, 56.80],\n",
    "    [77226, \"Head First Python\", \"Paul Barry\", 3, 32.95],\n",
    "    [88112, \"Einführung in Python3\", \"Bernd Klein\", 3, 24.99],\n",
    "]\n",
    "\n",
    "result = calculate_order_totals(order_data)\n",
    "print(result)"
   ]
  }
 ],
 "metadata": {
  "kernelspec": {
   "display_name": "Python 3 (ipykernel)",
   "language": "python",
   "name": "python3"
  },
  "language_info": {
   "codemirror_mode": {
    "name": "ipython",
    "version": 3
   },
   "file_extension": ".py",
   "mimetype": "text/x-python",
   "name": "python",
   "nbconvert_exporter": "python",
   "pygments_lexer": "ipython3",
   "version": "3.10.8"
  }
 },
 "nbformat": 4,
 "nbformat_minor": 5
}
